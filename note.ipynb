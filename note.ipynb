{
 "cells": [
  {
   "cell_type": "code",
   "execution_count": 1,
   "metadata": {},
   "outputs": [
    {
     "name": "stdout",
     "output_type": "stream",
     "text": [
      "Response received from: ('162.159.200.1', 123)\n",
      "\tTime = Mon Nov 28 10:33:28 2022\n"
     ]
    }
   ],
   "source": [
    "import socket, struct, sys, time\n",
    "\n",
    "NTP_SERVER = \"3.cl.pool.ntp.org\" #CHILE https://www.pool.ntp.org/zone/cl\n",
    "\n",
    "#NTP_SERVER = '0.uk.pool.ntp.org'\n",
    "TIME1970 = 2208988800\n",
    "\n",
    "\n",
    "client = socket.socket(socket.AF_INET, socket.SOCK_DGRAM)\n",
    "data = '\\x1b' + 47 * '\\0'\n",
    "client.sendto(data.encode('utf-8'), (NTP_SERVER, 123))\n",
    "data, address = client.recvfrom(1024)\n",
    "if data: print('Response received from:', address)\n",
    "t = struct.unpack('!12I', data)[10] - TIME1970\n",
    "print('\\tTime = %s' % time.ctime(t))\n"
   ]
  },
  {
   "cell_type": "code",
   "execution_count": 32,
   "metadata": {},
   "outputs": [
    {
     "name": "stdout",
     "output_type": "stream",
     "text": [
      "0\n",
      "1\n",
      "2\n",
      "3\n",
      "4\n",
      "\tTime = Sun Nov 27 22:14:16 2022\n",
      "5\n",
      "6\n",
      "7\n",
      "8\n",
      "\tTime = Sun Nov 27 22:18:28 2022\n",
      "9\n",
      "10\n",
      "\tTime = Sun Nov 27 22:18:28 2022\n",
      "11\n"
     ]
    }
   ],
   "source": [
    "k = 0\n",
    "for i in struct.unpack('!12I',data):\n",
    "    tt = i-TIME1970\n",
    "    try:\n",
    "        print(k)\n",
    "        print('\\tTime = %s' % time.ctime(tt))\n",
    "        k += 1\n",
    "    except:\n",
    "        k += 1\n",
    "        continue\n",
    "        "
   ]
  },
  {
   "cell_type": "code",
   "execution_count": null,
   "metadata": {},
   "outputs": [],
   "source": []
  },
  {
   "cell_type": "code",
   "execution_count": 14,
   "metadata": {},
   "outputs": [
    {
     "data": {
      "text/plain": [
       "'Sat Dec 31 21:00:00 2039'"
      ]
     },
     "execution_count": 14,
     "metadata": {},
     "output_type": "execute_result"
    }
   ],
   "source": [
    "time.ctime(TIME1970)"
   ]
  },
  {
   "cell_type": "code",
   "execution_count": 9,
   "metadata": {},
   "outputs": [
    {
     "data": {
      "text/plain": [
       "48"
      ]
     },
     "execution_count": 9,
     "metadata": {},
     "output_type": "execute_result"
    }
   ],
   "source": [
    "len(data.encode('utf-8'))"
   ]
  },
  {
   "cell_type": "code",
   "execution_count": 4,
   "metadata": {},
   "outputs": [],
   "source": [
    "data = '\\x1b' + 47 * '\\0'"
   ]
  },
  {
   "cell_type": "code",
   "execution_count": 7,
   "metadata": {},
   "outputs": [
    {
     "data": {
      "text/plain": [
       "48"
      ]
     },
     "execution_count": 7,
     "metadata": {},
     "output_type": "execute_result"
    }
   ],
   "source": [
    "len(data)"
   ]
  },
  {
   "cell_type": "code",
   "execution_count": 6,
   "metadata": {},
   "outputs": [
    {
     "name": "stdout",
     "output_type": "stream",
     "text": [
      "\u001b\n"
     ]
    }
   ],
   "source": [
    "print('\\x1b')"
   ]
  },
  {
   "cell_type": "code",
   "execution_count": 3,
   "metadata": {},
   "outputs": [
    {
     "data": {
      "text/plain": [
       "1669644760326.462"
      ]
     },
     "execution_count": 3,
     "metadata": {},
     "output_type": "execute_result"
    }
   ],
   "source": [
    "import time\n",
    "time.time()*1000"
   ]
  },
  {
   "cell_type": "code",
   "execution_count": null,
   "metadata": {},
   "outputs": [],
   "source": []
  }
 ],
 "metadata": {
  "kernelspec": {
   "display_name": "Python 3.10.8 64-bit",
   "language": "python",
   "name": "python3"
  },
  "language_info": {
   "codemirror_mode": {
    "name": "ipython",
    "version": 3
   },
   "file_extension": ".py",
   "mimetype": "text/x-python",
   "name": "python",
   "nbconvert_exporter": "python",
   "pygments_lexer": "ipython3",
   "version": "3.10.8"
  },
  "orig_nbformat": 4,
  "vscode": {
   "interpreter": {
    "hash": "8e8863bc66baa3ce3b3c04fdb7fffeed1330e06ccd5af697906ff169ee4727de"
   }
  }
 },
 "nbformat": 4,
 "nbformat_minor": 2
}
